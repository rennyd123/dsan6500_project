{
 "cells": [
  {
   "cell_type": "code",
   "execution_count": null,
   "metadata": {},
   "outputs": [],
   "source": [
    "import os\n",
    "from collections import Counter\n",
    "\n",
    "def count_images_in_directories(root_dir):\n",
    "    class_counts = Counter()\n",
    "    \n",
    "    for class_name in os.listdir(root_dir):\n",
    "        class_dir = os.path.join(root_dir, class_name)\n",
    "        if os.path.isdir(class_dir):\n",
    "            num_images = len(os.listdir(class_dir))\n",
    "            class_counts[class_name] = num_images\n",
    "    \n",
    "    return class_counts\n",
    "\n",
    "root_dir = '/content/drive/MyDrive/DSAN_6500/project/chestxray14_dataset/train'\n",
    "class_counts = count_images_in_directories(root_dir)\n",
    "\n",
    "print(class_counts)"
   ]
  }
 ],
 "metadata": {
  "language_info": {
   "name": "python"
  }
 },
 "nbformat": 4,
 "nbformat_minor": 2
}
