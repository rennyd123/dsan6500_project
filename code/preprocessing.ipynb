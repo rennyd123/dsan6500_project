{
 "cells": [
  {
   "cell_type": "code",
   "execution_count": 2,
   "metadata": {},
   "outputs": [],
   "source": [
    "import cv2\n",
    "import numpy as np\n",
    "import matplotlib.pyplot as plt\n",
    "import random\n",
    "import glob\n",
    "import os\n",
    "import torchvision.datasets as datasets\n",
    "\n",
    "images = datasets.ImageFolder(\"../data/all_images\")\n",
    "\n",
    "# sample_image_dir = \"../preview/images/sample_images\"\n",
    "# data_path = os.path.join(sample_image_dir, \"*g\")\n",
    "# files = glob.glob(data_path)\n",
    "# sample_data = []\n",
    "# for f1 in files: \n",
    "#     img = cv2.imread(f1)\n",
    "#     sample_data.append(img)\n",
    "\n",
    "# n = 3\n",
    "# three_images = random.sample(sample_data, n)\n",
    "# sample_images = len(three_images)"
   ]
  },
  {
   "cell_type": "code",
   "execution_count": 3,
   "metadata": {},
   "outputs": [
    {
     "name": "stderr",
     "output_type": "stream",
     "text": [
      "libpng warning: iCCP: profile 'ICC Profile': 'GRAY': Gray color space not permitted on RGB PNG\n",
      "libpng warning: iCCP: profile 'ICC Profile': 'GRAY': Gray color space not permitted on RGB PNG\n"
     ]
    },
    {
     "name": "stdout",
     "output_type": "stream",
     "text": [
      "Pre-processing completed and images saved.\n"
     ]
    }
   ],
   "source": [
    "import cv2\n",
    "import os\n",
    "import torchvision.datasets as datasets\n",
    "\n",
    "images = datasets.ImageFolder(\"../data/all_images\")\n",
    "\n",
    "output_dir = \"../data/processed_images\"\n",
    "os.makedirs(output_dir, exist_ok=True) \n",
    "\n",
    "for img_path, label in images.samples:\n",
    "\n",
    "    img = cv2.imread(img_path)\n",
    "\n",
    "    gray_image = cv2.cvtColor(img, cv2.COLOR_BGR2GRAY)\n",
    "    \n",
    "    clahe = cv2.createCLAHE(clipLimit=2.0, tileGridSize=(8, 8))\n",
    "    bilateral_image = cv2.bilateralFilter(gray_image, 9, 75, 75)\n",
    "    clahe_image = clahe.apply(bilateral_image)\n",
    "\n",
    "    original_filename = os.path.basename(img_path)\n",
    "    \n",
    "    cv2.imwrite(os.path.join(output_dir, original_filename), clahe_image)\n",
    "\n",
    "print(\"Pre-processing completed and images saved.\")\n"
   ]
  },
  {
   "cell_type": "code",
   "execution_count": 5,
   "metadata": {},
   "outputs": [
    {
     "name": "stdout",
     "output_type": "stream",
     "text": [
      "Pre-processing completed and images saved.\n"
     ]
    }
   ],
   "source": [
    "import cv2\n",
    "import os\n",
    "import shutil\n",
    "\n",
    "# Define the source and target directories\n",
    "source_dir = \"../data/sampled\"\n",
    "target_dir = \"../data/sampled_processed\"\n",
    "\n",
    "# Create the target directory if it doesn't exist\n",
    "os.makedirs(target_dir, exist_ok=True)\n",
    "\n",
    "# Function to process images\n",
    "def process_image(img_path):\n",
    "    img = cv2.imread(img_path)\n",
    "    gray_image = cv2.cvtColor(img, cv2.COLOR_BGR2GRAY)\n",
    "    clahe = cv2.createCLAHE(clipLimit=2.0, tileGridSize=(8, 8))\n",
    "    bilateral_image = cv2.bilateralFilter(gray_image, 9, 75, 75)\n",
    "    clahe_image = clahe.apply(bilateral_image)\n",
    "    return clahe_image\n",
    "\n",
    "# Function to process images in a folder\n",
    "def process_folder(src_folder, dst_folder):\n",
    "    for root, _, files in os.walk(src_folder):\n",
    "        for file in files:\n",
    "            if file.lower().endswith(('.png', '.jpg', '.jpeg')):\n",
    "                img_path = os.path.join(root, file)\n",
    "                processed_image = process_image(img_path)\n",
    "                \n",
    "                # Determine the relative path and the destination path\n",
    "                rel_path = os.path.relpath(root, src_folder)\n",
    "                save_path = os.path.join(dst_folder, rel_path, file)\n",
    "                \n",
    "                # Ensure the destination folder exists\n",
    "                os.makedirs(os.path.dirname(save_path), exist_ok=True)\n",
    "                \n",
    "                # Save the processed image\n",
    "                cv2.imwrite(save_path, processed_image)\n",
    "\n",
    "# Process all subdirectories (train, test, val)\n",
    "for sub_dir in [\"train\", \"test\", \"val\"]:\n",
    "    process_folder(os.path.join(source_dir, sub_dir), os.path.join(target_dir, sub_dir))\n",
    "\n",
    "print(\"Pre-processing completed and images saved.\")\n"
   ]
  }
 ],
 "metadata": {
  "kernelspec": {
   "display_name": "base",
   "language": "python",
   "name": "python3"
  },
  "language_info": {
   "codemirror_mode": {
    "name": "ipython",
    "version": 3
   },
   "file_extension": ".py",
   "mimetype": "text/x-python",
   "name": "python",
   "nbconvert_exporter": "python",
   "pygments_lexer": "ipython3",
   "version": "3.12.2"
  }
 },
 "nbformat": 4,
 "nbformat_minor": 2
}
