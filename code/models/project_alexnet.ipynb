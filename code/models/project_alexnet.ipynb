{
 "cells": [
  {
   "cell_type": "code",
   "execution_count": 1,
   "metadata": {},
   "outputs": [
    {
     "name": "stdout",
     "output_type": "stream",
     "text": [
      "Using device: cpu\n",
      "tensor([1.], device='mps:0')\n"
     ]
    }
   ],
   "source": [
    "import torch\n",
    "import torch.nn as nn\n",
    "import torch.nn.functional as F\n",
    "import torch.optim as optim\n",
    "from torch.optim.lr_scheduler import _LRScheduler\n",
    "from torch.utils.data import DataLoader\n",
    "\n",
    "import torchvision.transforms as transforms\n",
    "import torchvision.datasets as datasets\n",
    "from torchvision import models\n",
    "\n",
    "from sklearn import decomposition\n",
    "from sklearn import manifold\n",
    "from sklearn.metrics import confusion_matrix, ConfusionMatrixDisplay, accuracy_score, top_k_accuracy_score, precision_score, recall_score, f1_score, roc_auc_score, average_precision_score\n",
    "from tqdm.notebook import tqdm, trange\n",
    "import matplotlib.pyplot as plt\n",
    "import numpy as np\n",
    "import pandas as pd\n",
    "import random\n",
    "\n",
    "device = torch.device(\"cuda\" if torch.cuda.is_available() else \"cpu\")\n",
    "print(f\"Using device: {device}\")\n",
    "\n",
    "if device.type == \"cuda\":\n",
    "    print(torch.cuda.get_device_name(0))\n",
    "    print(\"Memory Usage:\")\n",
    "    print(\"Allocated:\", round(torch.cuda.memory_allocated(0)/1024**3, 1), \"GB\")\n",
    "    print(\"Cached:\", round(torch.cuda.memory_reserved(0)/1024**3, 1), \"GB\")\n",
    "\n",
    "if torch.backends.mps.is_available():\n",
    "    mps_device = torch.device(\"mps\")\n",
    "    x = torch.ones(1, device=mps_device)\n",
    "    print (x)\n",
    "else:\n",
    "    print (\"MPS device not found.\")"
   ]
  },
  {
   "cell_type": "code",
   "execution_count": 2,
   "metadata": {},
   "outputs": [],
   "source": [
    "def set_seed(seed = 42):\n",
    "    random.seed(seed)\n",
    "    np.random.seed(seed)\n",
    "    torch.manual_seed(seed)\n",
    "    if torch.cuda.is_available():\n",
    "        torch.cuda.manual_seed(seed)\n",
    "        torch.cuda.manual_seed_all(seed)\n",
    "        torch.backends.cudnn.deterministic = True\n",
    "        torch.backends.cudnn.benchmark = False\n",
    "\n",
    "set_seed(7598)"
   ]
  },
  {
   "cell_type": "code",
   "execution_count": 3,
   "metadata": {},
   "outputs": [
    {
     "name": "stderr",
     "output_type": "stream",
     "text": [
      "libpng warning: iCCP: profile 'ICC Profile': 'GRAY': Gray color space not permitted on RGB PNG\n",
      "libpng warning: iCCP: profile 'ICC Profile': 'GRAY': Gray color space not permitted on RGB PNG\n",
      "libpng warning: iCCP: profile 'ICC Profile': 'GRAY': Gray color space not permitted on RGB PNG\n",
      "libpng warning: iCCP: profile 'ICC Profile': 'GRAY': Gray color space not permitted on RGB PNG\n",
      "libpng warning: iCCP: profile 'ICC Profile': 'GRAY': Gray color space not permitted on RGB PNG\n",
      "libpng warning: iCCP: profile 'ICC Profile': 'GRAY': Gray color space not permitted on RGB PNG\n"
     ]
    },
    {
     "name": "stdout",
     "output_type": "stream",
     "text": [
      "Calculated Mean: [0.49154367 0.49154367 0.49154367]\n",
      "Calculated Standard Deviation: [0.25023263 0.25023263 0.25023263]\n"
     ]
    }
   ],
   "source": [
    "from pathlib import Path\n",
    "import cv2\n",
    "\n",
    "train_dir = Path(r'../data/train')\n",
    "test_dir = \"../data/test\"\n",
    "val_dir = \"../data/val\"\n",
    "\n",
    "files = list(train_dir.rglob('*.png'))\n",
    "\n",
    "mean = np.array([0.,0.,0.])\n",
    "stdTemp = np.array([0.,0.,0.])\n",
    "std = np.array([0.,0.,0.])\n",
    "\n",
    "numSamples = len(files)\n",
    "\n",
    "for i in range(numSamples):\n",
    "    im = cv2.imread(str(files[i]))\n",
    "    im = cv2.cvtColor(im, cv2.COLOR_BGR2RGB)\n",
    "    im = im.astype(float) / 255.\n",
    "    \n",
    "    for j in range(3):\n",
    "        mean[j] += np.mean(im[:,:,j])\n",
    "\n",
    "mean = (mean/numSamples)\n",
    "\n",
    "for i in range(numSamples):\n",
    "    im = cv2.imread(str(files[i]))\n",
    "    im = cv2.cvtColor(im, cv2.COLOR_BGR2RGB)\n",
    "    im = im.astype(float) / 255.\n",
    "    for j in range(3):\n",
    "        stdTemp[j] += ((im[:,:,j] - mean[j])**2).sum()/(im.shape[0]*im.shape[1])\n",
    "\n",
    "std = np.sqrt(stdTemp/numSamples)\n",
    "\n",
    "print(f\"Calculated Mean: {mean}\")\n",
    "print(f\"Calculated Standard Deviation: {std}\")"
   ]
  },
  {
   "cell_type": "code",
   "execution_count": 4,
   "metadata": {},
   "outputs": [],
   "source": [
    "from PIL import Image\n",
    "\n",
    "batch_size = 64\n",
    "numworkers = 2\n",
    "\n",
    "# the below function tranforms and normalises the data\n",
    "\n",
    "transform = transforms.Compose([\n",
    "    transforms.Resize(256),\n",
    "    transforms.RandomCrop((112, 112)),\n",
    "    # transforms.RandomHorizontalFlip(), \n",
    "    transforms.ToTensor(),\n",
    "    transforms.Normalize([0.49154367, 0.49154367, 0.49154367], [0.25023263, 0.25023263, 0.25023263])\n",
    "])\n",
    "\n",
    "train_dataset = datasets.ImageFolder(train_dir, transform = transform)\n",
    "test_dataset = datasets.ImageFolder(test_dir, transform = transform)\n",
    "validation_dataset = datasets.ImageFolder(val_dir, transform = transform)\n",
    "\n",
    "train_loader = DataLoader(train_dataset, \n",
    "                          batch_size = batch_size, \n",
    "                          shuffle = True, \n",
    "                          num_workers = numworkers)\n",
    "\n",
    "test_loader = DataLoader(test_dataset, \n",
    "                          batch_size = batch_size, \n",
    "                          shuffle = False, \n",
    "                          num_workers = numworkers)\n",
    "\n",
    "validation_loader = DataLoader(validation_dataset, \n",
    "                          batch_size = batch_size, \n",
    "                          shuffle = False, \n",
    "                          num_workers = numworkers)"
   ]
  },
  {
   "cell_type": "code",
   "execution_count": 12,
   "metadata": {},
   "outputs": [],
   "source": [
    "# loading the alexnet model \n",
    "\n",
    "model = models.alexnet(weights = models.AlexNet_Weights.IMAGENET1K_V1) # loading a pretrained model\n",
    "model.classifier[6] = nn.Linear(model.classifier[6].in_features, 15) # changing the output layers to match the number of classes\n",
    "model = model.to(device)\n",
    "\n",
    "# loss function and optimizer \n",
    "criterion = nn.CrossEntropyLoss()\n",
    "optimizer = optim.Adam(model.parameters(), lr = 0.001)"
   ]
  },
  {
   "cell_type": "markdown",
   "metadata": {},
   "source": [
    "### Training "
   ]
  },
  {
   "cell_type": "code",
   "execution_count": 13,
   "metadata": {},
   "outputs": [],
   "source": [
    "def train(model, train_loader, criterion, optimizer, device):\n",
    "    model.train()\n",
    "    running_loss = 0.0\n",
    "    for inputs, labels in tqdm(train_loader, desc = \"Training\"):\n",
    "        inputs, labels = inputs.to(device), labels.to(device)\n",
    "\n",
    "        optimizer.zero_grad()\n",
    "        outputs = model(inputs)\n",
    "        loss = criterion(outputs, labels)\n",
    "        loss.backward()\n",
    "        optimizer.step()\n",
    "\n",
    "        running_loss += loss.item() * inputs.size(0)\n",
    "\n",
    "    epoch_loss = running_loss / len(train_loader.dataset)\n",
    "\n",
    "    return epoch_loss"
   ]
  },
  {
   "cell_type": "code",
   "execution_count": 14,
   "metadata": {},
   "outputs": [],
   "source": [
    "def compute_metrics(labels, predictions, probs):\n",
    "    metrics = {\n",
    "        \"Accuracy\" : accuracy_score(labels, predictions),\n",
    "        \"Top-5 Accuracy\" : top_k_accuracy_score(labels, probs, k = 5),\n",
    "        \"Macro Precision\" : precision_score(labels, predictions, average = \"macro\"),\n",
    "        \"Weighted Precision\" : precision_score(labels, predictions, average = \"weighted\"),\n",
    "        \"Macro Recall\" : recall_score(labels, predictions, average = \"macro\"), \n",
    "        \"Weighted Recall\" : recall_score(labels, predictions, average = \"weighted\"), \n",
    "        \"Weighted F1-Score\" : f1_score(labels, predictions, average = \"weighted\"),\n",
    "        \"Weighted AUC Score\" : roc_auc_score(labels, probs, multi_class = \"ovr\", average = \"weighted\"),\n",
    "        \"Weighted Mean Average Precision\" : average_precision_score(labels, probs, average = \"weighted\")\n",
    "    }\n",
    "    \n",
    "    return metrics"
   ]
  },
  {
   "cell_type": "code",
   "execution_count": 15,
   "metadata": {},
   "outputs": [],
   "source": [
    "def evaluate(model, data_loader, criterion, device):\n",
    "    model.eval()\n",
    "    running_loss = 0.0\n",
    "    correct = 0\n",
    "    total = 0\n",
    "    all_labels = []\n",
    "    all_predictions = []\n",
    "    all_probs = []\n",
    "\n",
    "    with torch.no_grad():\n",
    "        for inputs, labels in tqdm(data_loader, desc = \"Evaluating\"):\n",
    "            inputs, labels = inputs.to(device), labels.to(device)\n",
    "\n",
    "            outputs = model(inputs)\n",
    "            loss = criterion(outputs, labels)\n",
    "\n",
    "            running_loss += loss.item() * inputs.size(0)\n",
    "            _, predicted = torch.max(outputs, 1)\n",
    "            total += labels.size(0)\n",
    "            correct += (predicted == labels).sum().item()\n",
    "\n",
    "            all_labels.extend(labels.cpu().numpy())\n",
    "            all_predictions.extend(predicted.cpu().numpy())\n",
    "            all_probs.extend(nn.Softmax(dim = 1)(outputs).cpu().numpy())\n",
    "\n",
    "    epoch_loss = running_loss / len(data_loader.dataset)\n",
    "    accuracy = 100 * correct / total\n",
    "\n",
    "    metrics = compute_metrics(all_labels, all_predictions, all_probs)\n",
    "\n",
    "    return epoch_loss, accuracy, metrics"
   ]
  },
  {
   "cell_type": "code",
   "execution_count": 16,
   "metadata": {},
   "outputs": [],
   "source": [
    "from typing import Any\n",
    "\n",
    "class EarlyStopping:\n",
    "    def __init__(self, patience = 5, verbose = False, delta = 0):\n",
    "        self.patience = patience\n",
    "        self.verbose = verbose\n",
    "        self.delta = delta\n",
    "        self.best_score = None \n",
    "        self.early_stop = False\n",
    "        self.counter = 0\n",
    "        self.best_loss = None \n",
    "\n",
    "    def __call__(self, val_loss, model):\n",
    "        score = -val_loss\n",
    "\n",
    "        if self.best_score is None:\n",
    "            self.best_score = score\n",
    "            self.save_checkpoint(val_loss, model)\n",
    "        elif score < self.best_score + self.delta:\n",
    "            self.counter += 1\n",
    "            if self.verbose:\n",
    "                print(f\"EarlyStopping counter: {self.counter} out of {self.patience}\")\n",
    "            if self.counter >= self.patience:\n",
    "                self.early_stop = True\n",
    "        else:\n",
    "            self.best_score = score\n",
    "            self.save_checkpoint(val_loss, model)\n",
    "            self.counter = 0\n",
    "\n",
    "    def save_checkpoint(self, val_loss, model):\n",
    "        if self.verbose:\n",
    "            if self.best_loss is not None:\n",
    "                print(f\"Validation loss decreased ({self.best_loss:.6f} --> {val_loss:.6f}). Saving model ...\")\n",
    "            else:\n",
    "                print(f\"Saving model with validation loss {val_loss:.6f} ...\")\n",
    "        torch.save(model.state_dict(), \"best_model.pth\")\n",
    "        self.best_loss = val_loss"
   ]
  },
  {
   "cell_type": "markdown",
   "metadata": {},
   "source": [
    "Actually Training"
   ]
  },
  {
   "cell_type": "code",
   "execution_count": 17,
   "metadata": {},
   "outputs": [
    {
     "data": {
      "application/vnd.jupyter.widget-view+json": {
       "model_id": "1ba3237494b640e4b13ea23dd1e5b763",
       "version_major": 2,
       "version_minor": 0
      },
      "text/plain": [
       "Training:   0%|          | 0/1554 [00:00<?, ?it/s]"
      ]
     },
     "metadata": {},
     "output_type": "display_data"
    },
    {
     "data": {
      "application/vnd.jupyter.widget-view+json": {
       "model_id": "505900d02bea4956bb1e182cb586f939",
       "version_major": 2,
       "version_minor": 0
      },
      "text/plain": [
       "Evaluating:   0%|          | 0/207 [00:00<?, ?it/s]"
      ]
     },
     "metadata": {},
     "output_type": "display_data"
    },
    {
     "name": "stderr",
     "output_type": "stream",
     "text": [
      "/Users/coding/miniconda3/lib/python3.12/site-packages/sklearn/metrics/_classification.py:1509: UndefinedMetricWarning: Precision is ill-defined and being set to 0.0 in labels with no predicted samples. Use `zero_division` parameter to control this behavior.\n",
      "  _warn_prf(average, modifier, f\"{metric.capitalize()} is\", len(result))\n",
      "/Users/coding/miniconda3/lib/python3.12/site-packages/sklearn/metrics/_classification.py:1509: UndefinedMetricWarning: Precision is ill-defined and being set to 0.0 in labels with no predicted samples. Use `zero_division` parameter to control this behavior.\n",
      "  _warn_prf(average, modifier, f\"{metric.capitalize()} is\", len(result))\n"
     ]
    },
    {
     "name": "stdout",
     "output_type": "stream",
     "text": [
      "Epoch: 1/1, Train Loss: 2.0120, Val Loss: 1.9948, Val Accuracy: 4227.69%\n",
      "Accuracy : 0.4228\n",
      "Top-5 Accuracy : 0.7747\n",
      "Macro Precision : 0.0282\n",
      "Weighted Precision : 0.1787\n",
      "Macro Recall : 0.0667\n",
      "Weighted Recall : 0.4228\n",
      "Weighted F1-Score : 0.2512\n",
      "Weighted AUC Score : 0.5000\n",
      "Weighted Mean Average Precision : 0.2226\n",
      "Saving model with validation loss 1.994846 ...\n"
     ]
    }
   ],
   "source": [
    "num_epochs = 1\n",
    "patience = 5\n",
    "early_stopping = EarlyStopping(patience = patience, verbose = True)\n",
    "\n",
    "train_losses = []\n",
    "val_losses = []\n",
    "val_accuracies = []\n",
    "metrics_list = []\n",
    "\n",
    "for epoch in range(num_epochs):\n",
    "    train_loss = train(model, train_loader, criterion, optimizer, device)\n",
    "    val_loss, val_accuracy, metrics = evaluate(model, validation_loader, criterion, device)\n",
    "\n",
    "    train_losses.append(train_loss)\n",
    "    val_losses.append(val_loss)\n",
    "    val_accuracies.append(val_accuracy)\n",
    "    metrics_list.append(metrics)\n",
    "\n",
    "    print(f\"Epoch: {epoch+1}/{num_epochs}, Train Loss: {train_loss:.4f}, Val Loss: {val_loss:.4f}, Val Accuracy: {val_accuracy:.2f}%\")\n",
    "    \n",
    "    for metric_name, metric_value in metrics.items():\n",
    "        print(f\"{metric_name} : {metric_value:.4f}\")\n",
    "    \n",
    "    early_stopping(val_loss, model)\n",
    "\n",
    "    if early_stopping.early_stop:\n",
    "        print(\"Early stopping\")\n",
    "        break"
   ]
  },
  {
   "cell_type": "markdown",
   "metadata": {},
   "source": [
    "### Evaluation"
   ]
  },
  {
   "cell_type": "code",
   "execution_count": 18,
   "metadata": {},
   "outputs": [],
   "source": [
    "metrics_df = pd.DataFrame(metrics_list)\n",
    "metrics_df.to_csv(\"metrics.csv\", index = False)"
   ]
  },
  {
   "cell_type": "code",
   "execution_count": 19,
   "metadata": {},
   "outputs": [
    {
     "data": {
      "image/png": "[encoded data removed]",
      "text/plain": [
       "<Figure size 1170x360 with 2 Axes>"
      ]
     },
     "metadata": {},
     "output_type": "display_data"
    }
   ],
   "source": [
    "import matplotlib.pyplot as plt\n",
    "\n",
    "plt.figure(figsize = (13, 4), dpi = 90)\n",
    "plt.subplot(1, 2, 1)\n",
    "plt.plot(train_losses, label = \"Train Loss\")\n",
    "plt.plot(val_losses, label = \"Validation Loss\")\n",
    "plt.xlabel(\"Epoch\")\n",
    "plt.ylabel(\"Loss\")\n",
    "plt.title(\"Train vs Validation Loss\")\n",
    "plt.legend()\n",
    "\n",
    "plt.subplot(1, 2, 2)\n",
    "plt.plot(val_accuracies, label = \"Validation Accuracy\")\n",
    "plt.xlabel(\"Epoch\")\n",
    "plt.ylabel(\"Accuracy (%)\")\n",
    "plt.title(\"Validation Accuracy\")\n",
    "plt.legend()\n",
    "\n",
    "plt.show()"
   ]
  },
  {
   "cell_type": "code",
   "execution_count": 20,
   "metadata": {},
   "outputs": [
    {
     "data": {
      "application/vnd.jupyter.widget-view+json": {
       "model_id": "9a8166bedc4740cdb2bed7673e54efca",
       "version_major": 2,
       "version_minor": 0
      },
      "text/plain": [
       "Evaluating:   0%|          | 0/311 [00:00<?, ?it/s]"
      ]
     },
     "metadata": {},
     "output_type": "display_data"
    }
   ],
   "source": [
    "test_loss, test_accuracy, test_metrics = evaluate(model, test_loader, criterion, device)\n",
    "print(f\"Test Loss: {test_loss:.4f}, Test Accuracy: {test_accuracy:.2f}%\")\n",
    "for metric_name, metric_value in test_metrics.items():\n",
    "    print(f\"{metric_name}: {metric_value:.4f}\")"
   ]
  },
  {
   "cell_type": "code",
   "execution_count": null,
   "metadata": {},
   "outputs": [],
   "source": [
    "def get_all_predictions(loader, model, device):\n",
    "    model.eval()\n",
    "    all_preds = []\n",
    "    all_labels = []\n",
    "    with torch.no_grad():\n",
    "        for inputs, labels in loader:\n",
    "            inputs, labels = inputs.to(device), labels.to(device)\n",
    "            outputs = model(inputs)\n",
    "            _, preds = torch.max(outputs, 1)\n",
    "            all_preds.extend(preds.view(-1).tolist())\n",
    "            all_labels.extend(labels.view(-1).tolist())\n",
    "    return all_preds, all_labels\n",
    "\n",
    "train_preds, train_labels = get_all_predictions(train_loader, model, device)\n",
    "val_preds, val_labels = get_all_predictions(validation_loader, model, device)\n",
    "test_preds, test_labels = get_all_predictions(test_loader, model, device)"
   ]
  },
  {
   "cell_type": "markdown",
   "metadata": {},
   "source": [
    "### Confusion Matrix"
   ]
  },
  {
   "cell_type": "code",
   "execution_count": null,
   "metadata": {},
   "outputs": [],
   "source": [
    "# import torch\n",
    "# import torch.nn as nn\n",
    "# from torchvision import models\n",
    "# from sklearn.metrics import confusion_matrix\n",
    "# import numpy as np\n",
    "# import matplotlib.pyplot as plt\n",
    "\n",
    "# train_cm = confusion_matrix(train_labels, train_preds)\n",
    "# val_cm = confusion_matrix(val_labels, val_preds)\n",
    "# test_cm = confusion_matrix(test_labels, test_preds)\n",
    "\n",
    "# def plot_confusion_matrix(cm, classes, title='Confusion Matrix'):\n",
    "#     plt.figure(figsize=(8, 6))\n",
    "#     plt.imshow(cm, interpolation='nearest', cmap=plt.cm.Blues)\n",
    "#     plt.title(title)\n",
    "#     plt.colorbar()\n",
    "#     tick_marks = np.arange(len(classes))\n",
    "#     plt.xticks(tick_marks, classes, rotation=45)\n",
    "#     plt.yticks(tick_marks, classes)\n",
    "#     plt.tight_layout()\n",
    "#     plt.ylabel('True label')\n",
    "#     plt.xlabel('Predicted label')\n",
    "#     plt.show()\n",
    "\n",
    "# plot_confusion_matrix(train_cm, dataset_classes, title='Training Confusion Matrix')\n",
    "# plot_confusion_matrix(val_cm, dataset_classes, title='Validation Confusion Matrix')\n",
    "# plot_confusion_matrix(test_cm, dataset_classes, title='Test Confusion Matrix')\n"
   ]
  },
  {
   "cell_type": "markdown",
   "metadata": {},
   "source": [
    "### Viewing Model's Mistakes"
   ]
  },
  {
   "cell_type": "code",
   "execution_count": null,
   "metadata": {},
   "outputs": [],
   "source": [
    "def display_random_images(model, test_dataset, dataset_classes, num_images = 12):\n",
    "    model.eval()\n",
    "    indices = random.sample(range(len(test_dataset)), num_images)\n",
    "    images, labels = zip(*[test_dataset[i] for i in indices])\n",
    "    images = torch.stack(images).to(device)\n",
    "    labels = torch.tensor(labels).to(device)\n",
    "\n",
    "    with torch.no_grad():\n",
    "        outputs = model(images)\n",
    "        _, predicted = torch.max(outputs, 1)\n",
    "\n",
    "    images = images.cpu().numpy().transpose((0, 2, 3, 1))\n",
    "    images = images * np.array([0.229, 0.224, 0.225]) + np.array([0.485, 0.456, 0.406])\n",
    "    images = np.clip(images, 0, 1)\n",
    "\n",
    "    fig, axes = plt.subplots(4, 3, figsize = (12, 12))\n",
    "    axes = axes.flatten()\n",
    "    for img, true_label, pred_label, ax in zip(images, labels, predicted, axes):\n",
    "        ax.imshow(img)\n",
    "        ax.set_title(f\"True: {dataset_classes[true_label]} \\nPred: {dataset_classes[pred_label]}\", color = '#009878' if true_label == pred_label else \"#9C3839\")\n",
    "        ax.axis(\"off\")\n",
    "\n",
    "    plt.tight_layout()\n",
    "    # plt.savefig(\"output_images/alexnet_test_images.jpg\", dpi = 300)\n",
    "    plt.show()"
   ]
  },
  {
   "cell_type": "code",
   "execution_count": null,
   "metadata": {},
   "outputs": [],
   "source": [
    "display_random_images(model, test_dataset, test_dataset.classes)\n"
   ]
  }
 ],
 "metadata": {
  "kernelspec": {
   "display_name": "base",
   "language": "python",
   "name": "python3"
  },
  "language_info": {
   "codemirror_mode": {
    "name": "ipython",
    "version": 3
   },
   "file_extension": ".py",
   "mimetype": "text/x-python",
   "name": "python",
   "nbconvert_exporter": "python",
   "pygments_lexer": "ipython3",
   "version": "3.12.2"
  }
 },
 "nbformat": 4,
 "nbformat_minor": 2
}
