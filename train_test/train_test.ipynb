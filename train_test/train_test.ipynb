{
 "cells": [
  {
   "cell_type": "code",
   "execution_count": 2,
   "metadata": {},
   "outputs": [],
   "source": [
    "import pandas as pd \n",
    "\n",
    "train_val = pd.read_csv(r\"train_val_list.txt\")\n",
    "train_val.to_csv(r\"train_val_list.csv\", index = False)\n",
    "\n",
    "test = pd.read_csv(r\"test_list.txt\")\n",
    "test.to_csv(r\"test_list.csv\", index = False)"
   ]
  },
  {
   "cell_type": "code",
   "execution_count": 4,
   "metadata": {},
   "outputs": [
    {
     "name": "stdout",
     "output_type": "stream",
     "text": [
      "Test CSV Length: 25595\n",
      "Train Validation CSV Length: 86523\n",
      "Total Images: 112118\n"
     ]
    }
   ],
   "source": [
    "test_csv = pd.read_csv(\"test_list.csv\")\n",
    "train_val_csv = pd.read_csv(\"train_val_list.csv\")\n",
    "\n",
    "print(\"Test CSV Length:\", len(test_csv))\n",
    "print(\"Train Validation CSV Length:\", len(train_val_csv))\n",
    "print(\"Total Images:\", len(test_csv) + len(train_val_csv))"
   ]
  }
 ],
 "metadata": {
  "kernelspec": {
   "display_name": "base",
   "language": "python",
   "name": "python3"
  },
  "language_info": {
   "codemirror_mode": {
    "name": "ipython",
    "version": 3
   },
   "file_extension": ".py",
   "mimetype": "text/x-python",
   "name": "python",
   "nbconvert_exporter": "python",
   "pygments_lexer": "ipython3",
   "version": "3.12.2"
  }
 },
 "nbformat": 4,
 "nbformat_minor": 2
}
